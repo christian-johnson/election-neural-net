{
 "cells": [
  {
   "cell_type": "code",
   "execution_count": 70,
   "metadata": {
    "collapsed": false
   },
   "outputs": [],
   "source": [
    "import numpy as np\n",
    "import pandas as pd\n",
    "import tensorflow as tf\n",
    "import itertools\n",
    "import matplotlib.pyplot as plt\n",
    "\n",
    "x = np.random.rand(200)\n",
    "y = x\n",
    "data = pd.DataFrame({'X':x, 'Y':y})\n",
    "training_data = data[50:]\n",
    "test_data= data[:50]"
   ]
  },
  {
   "cell_type": "code",
   "execution_count": 75,
   "metadata": {
    "collapsed": false
   },
   "outputs": [
    {
     "name": "stdout",
     "output_type": "stream",
     "text": [
      "INFO:tensorflow:Using default config.\n",
      "WARNING:tensorflow:Using temporary folder as model directory: /var/folders/2t/36ll583s2572_j0l52wqd3f00000gn/T/tmpteOFyh\n",
      "INFO:tensorflow:Using config: {'_save_checkpoints_secs': 600, '_num_ps_replicas': 0, '_keep_checkpoint_max': 5, '_task_type': None, '_is_chief': True, '_cluster_spec': <tensorflow.python.training.server_lib.ClusterSpec object at 0x1153a79d0>, '_model_dir': '/var/folders/2t/36ll583s2572_j0l52wqd3f00000gn/T/tmpteOFyh', '_save_checkpoints_steps': None, '_keep_checkpoint_every_n_hours': 10000, '_session_config': None, '_tf_random_seed': None, '_environment': 'local', '_num_worker_replicas': 0, '_task_id': 0, '_save_summary_steps': 100, '_tf_config': gpu_options {\n",
      "  per_process_gpu_memory_fraction: 1\n",
      "}\n",
      ", '_evaluation_master': '', '_master': ''}\n"
     ]
    }
   ],
   "source": [
    "COLUMNS = ['Y','X']\n",
    "FEATURES = ['X']\n",
    "LABELS = 'Y'\n",
    "\n",
    "def get_input_fn(data_set, num_epochs=None, shuffle=True):\n",
    "  return tf.estimator.inputs.pandas_input_fn(\n",
    "      x=pd.DataFrame(data_set[FEATURES]),\n",
    "      y=pd.Series(data_set[LABELS]),\n",
    "      num_epochs=num_epochs,\n",
    "      shuffle=shuffle, num_threads=1)\n",
    "\n",
    "feature_cols = [tf.contrib.layers.real_valued_column(k) for k in FEATURES]\n",
    "regressor = tf.contrib.learn.LinearRegressor(feature_columns=feature_cols,optimizer=tf.train.FtrlOptimizer(learning_rate=55.0))"
   ]
  },
  {
   "cell_type": "code",
   "execution_count": 76,
   "metadata": {
    "collapsed": false,
    "scrolled": true
   },
   "outputs": [
    {
     "name": "stdout",
     "output_type": "stream",
     "text": [
      "WARNING:tensorflow:From /Users/christian/physics/ScienceTools/lib/python2.7/site-packages/tensorflow/contrib/learn/python/learn/estimators/head.py:625: scalar_summary (from tensorflow.python.ops.logging_ops) is deprecated and will be removed after 2016-11-30.\n",
      "Instructions for updating:\n",
      "Please switch to tf.summary.scalar. Note that tf.summary.scalar uses the node name instead of the tag. This means that TensorFlow will automatically de-duplicate summary names based on the scope they are created in. Also, passing a tensor or list of tags to a scalar summary op is no longer supported.\n",
      "INFO:tensorflow:Create CheckpointSaverHook.\n",
      "INFO:tensorflow:Saving checkpoints for 1 into /var/folders/2t/36ll583s2572_j0l52wqd3f00000gn/T/tmpteOFyh/model.ckpt.\n",
      "INFO:tensorflow:loss = 0.283902, step = 1\n",
      "INFO:tensorflow:global_step/sec: 310.733\n",
      "INFO:tensorflow:loss = 2.03059e-06, step = 101 (0.324 sec)\n",
      "INFO:tensorflow:global_step/sec: 305.08\n",
      "INFO:tensorflow:loss = 4.7161e-12, step = 201 (0.331 sec)\n",
      "INFO:tensorflow:global_step/sec: 444.925\n",
      "INFO:tensorflow:loss = 1.46324e-15, step = 301 (0.221 sec)\n",
      "INFO:tensorflow:global_step/sec: 356.296\n",
      "INFO:tensorflow:loss = 1.75175e-15, step = 401 (0.286 sec)\n",
      "INFO:tensorflow:global_step/sec: 401.6\n",
      "INFO:tensorflow:loss = 1.95926e-15, step = 501 (0.245 sec)\n",
      "INFO:tensorflow:global_step/sec: 519.09\n",
      "INFO:tensorflow:loss = 1.69428e-15, step = 601 (0.195 sec)\n",
      "INFO:tensorflow:global_step/sec: 419.711\n",
      "INFO:tensorflow:loss = 1.68881e-15, step = 701 (0.237 sec)\n",
      "INFO:tensorflow:global_step/sec: 442.141\n",
      "INFO:tensorflow:loss = 1.65728e-15, step = 801 (0.227 sec)\n",
      "INFO:tensorflow:global_step/sec: 354.792\n",
      "INFO:tensorflow:loss = 1.53279e-15, step = 901 (0.280 sec)\n",
      "INFO:tensorflow:Saving checkpoints for 1000 into /var/folders/2t/36ll583s2572_j0l52wqd3f00000gn/T/tmpteOFyh/model.ckpt.\n",
      "INFO:tensorflow:Loss for final step: 1.80937e-15.\n"
     ]
    },
    {
     "data": {
      "text/plain": [
       "LinearRegressor(params={'gradient_clip_norm': None, 'head': <tensorflow.contrib.learn.python.learn.estimators.head._RegressionHead object at 0x11677aed0>, 'joint_weights': False, 'optimizer': <tensorflow.python.training.ftrl.FtrlOptimizer object at 0x1165ebe50>, 'feature_columns': [_RealValuedColumn(column_name='X', dimension=1, default_value=None, dtype=tf.float32, normalizer=None)]})"
      ]
     },
     "execution_count": 76,
     "metadata": {},
     "output_type": "execute_result"
    }
   ],
   "source": [
    "regressor.fit(input_fn=get_input_fn(test_data), steps=1)"
   ]
  },
  {
   "cell_type": "code",
   "execution_count": 77,
   "metadata": {
    "collapsed": false,
    "scrolled": false
   },
   "outputs": [
    {
     "name": "stdout",
     "output_type": "stream",
     "text": [
      "WARNING:tensorflow:From /Users/christian/physics/ScienceTools/lib/python2.7/site-packages/tensorflow/python/util/deprecation.py:347: calling predict (from tensorflow.contrib.learn.python.learn.estimators.linear) with outputs=None is deprecated and will be removed after 2017-03-01.\n",
      "Instructions for updating:\n",
      "Please switch to predict_scores, or set `outputs` argument.\n",
      "INFO:tensorflow:Restoring parameters from /var/folders/2t/36ll583s2572_j0l52wqd3f00000gn/T/tmpteOFyh/model.ckpt-1000\n",
      "           X         Y\n",
      "0   0.247592  0.247592\n",
      "1   0.191601  0.191601\n",
      "2   0.076271  0.076271\n",
      "3   0.426574  0.426574\n",
      "4   0.169922  0.169922\n",
      "5   0.601684  0.601684\n",
      "6   0.364029  0.364029\n",
      "7   0.606960  0.606960\n",
      "8   0.890414  0.890414\n",
      "9   0.285315  0.285315\n",
      "10  0.558390  0.558390\n",
      "11  0.999328  0.999328\n",
      "12  0.683809  0.683809\n",
      "13  0.848857  0.848857\n",
      "14  0.466926  0.466926\n",
      "15  0.340086  0.340086\n",
      "16  0.866323  0.866323\n",
      "17  0.739119  0.739119\n",
      "18  0.981576  0.981576\n",
      "19  0.031671  0.031671\n",
      "20  0.440515  0.440515\n",
      "21  0.223333  0.223333\n",
      "22  0.890953  0.890953\n",
      "23  0.788936  0.788936\n",
      "24  0.592061  0.592061\n",
      "25  0.022052  0.022052\n",
      "26  0.359267  0.359267\n",
      "27  0.896470  0.896470\n",
      "28  0.057491  0.057491\n",
      "29  0.512908  0.512908\n",
      "30  0.564603  0.564603\n",
      "31  0.199775  0.199775\n",
      "32  0.774451  0.774451\n",
      "33  0.832739  0.832739\n",
      "34  0.700153  0.700153\n",
      "35  0.748381  0.748381\n",
      "36  0.117229  0.117229\n",
      "37  0.372904  0.372904\n",
      "38  0.728126  0.728126\n",
      "39  0.511876  0.511876\n",
      "40  0.979473  0.979473\n",
      "41  0.241960  0.241960\n",
      "42  0.456400  0.456400\n",
      "43  0.370765  0.370765\n",
      "44  0.954285  0.954285\n",
      "45  0.050336  0.050336\n",
      "46  0.618786  0.618786\n",
      "47  0.397048  0.397048\n",
      "48  0.563263  0.563263\n",
      "49  0.992214  0.992214\n",
      "[0.5632627, 0.97947335, 0.36402896, 0.37076467, 0.11722871, 0.057491224, 0.39704803, 0.83273846, 0.77445078, 0.78893638, 0.72812563, 0.24195984, 0.28531522, 0.70015341, 0.46692598, 0.6187858, 0.99221385, 0.3400861, 0.42657438, 0.45640004, 0.89646971, 0.9542852, 0.84885705, 0.55838972, 0.89095259, 0.6016835, 0.51290762, 0.60695964, 0.076271035, 0.56460267, 0.9815762, 0.51187611, 0.99932814, 0.73911911, 0.031671144, 0.86632311, 0.35926679, 0.74838132, 0.19160101, 0.16992202, 0.44051549, 0.3729037, 0.050335739, 0.6838094, 0.59206057, 0.022051759, 0.22333308, 0.24759181, 0.19977543, 0.8904137]\n"
     ]
    },
    {
     "data": {
      "image/png": "[encoded data removed]",
      "text/plain": [
       "<matplotlib.figure.Figure at 0x1154de390>"
      ]
     },
     "metadata": {},
     "output_type": "display_data"
    }
   ],
   "source": [
    "results = regressor.predict(input_fn=get_input_fn(test_data, num_epochs=1))\n",
    "predictions = list(itertools.islice(results, 500))\n",
    "print test_data\n",
    "print predictions\n",
    "fig = plt.figure(figsize=[8,8])\n",
    "ax = fig.add_subplot(111)\n",
    "ax.scatter(test_data[LABELS], predictions)\n",
    "\n",
    "ax.set_xlabel('Actual')\n",
    "ax.set_ylabel('Predicted')\n",
    "plt.show()"
   ]
  },
  {
   "cell_type": "code",
   "execution_count": null,
   "metadata": {
    "collapsed": true
   },
   "outputs": [],
   "source": []
  }
 ],
 "metadata": {
  "kernelspec": {
   "display_name": "Python 2",
   "language": "python",
   "name": "python2"
  },
  "language_info": {
   "codemirror_mode": {
    "name": "ipython",
    "version": 2
   },
   "file_extension": ".py",
   "mimetype": "text/x-python",
   "name": "python",
   "nbconvert_exporter": "python",
   "pygments_lexer": "ipython2",
   "version": "2.7.8"
  }
 },
 "nbformat": 4,
 "nbformat_minor": 2
}
